{
 "cells": [
  {
   "cell_type": "markdown",
   "id": "f7b3ddeb-8a52-451b-a7c9-07a9171820db",
   "metadata": {},
   "source": [
    "DISEÑO ARQUITECTURA BÁSICA DE UN SERVICIO\n"
   ]
  },
  {
   "cell_type": "markdown",
   "id": "58c92dd7-115b-4ca9-b2f1-00d3bd70d85f",
   "metadata": {},
   "source": [
    "Datos a recoger:\n",
    "- Temperatura\n",
    "- Humedad\n",
    "- Presión atmosférica\n",
    "- Viento\n",
    "- Precipitación\n",
    "- Radiación solar\n",
    "- Indices de calidad del aire\n",
    "- Nubosidad\n",
    "- Indices UV\n",
    "  \n",
    "(Cada escuela, introducirá una vez al día, esos datos, siempre a la misma hora)"
   ]
  },
  {
   "cell_type": "markdown",
   "id": "5adea7e5-767e-442d-9bbe-a33201570361",
   "metadata": {},
   "source": [
    "1) Crear un documento técnico, para pasar a un equipo, con el fin de desarrollar la **BD** para la web. El documento debe responder a todas estas cuestiones (información del documento):\n",
    "   - Definir de API\n",
    "   - Como será el consumo de API desde Frontend\n",
    "   - Como se manejarán las respuestas\n",
    "   - De que manera se actualizará la interfaz de usuario\n",
    "   - Como se gestionará las sesiones y la autenticación\n",
    "   - Que aspectos garantizarán la seguridad (Autenticación seguridad)"
   ]
  },
  {
   "cell_type": "markdown",
   "id": "13304d84-e678-4798-b204-3700df8ce498",
   "metadata": {},
   "source": [
    "2) Pruebas:\n",
    "   - Debes establecer como se harán las pruebas **Unitarias de Integración**, y de **Aceptación**"
   ]
  }
 ],
 "metadata": {
  "kernelspec": {
   "display_name": "",
   "name": ""
  },
  "language_info": {
   "name": ""
  }
 },
 "nbformat": 4,
 "nbformat_minor": 5
}
