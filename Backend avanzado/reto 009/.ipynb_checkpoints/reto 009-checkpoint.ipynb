{
 "cells": [
  {
   "cell_type": "markdown",
   "id": "b41658fe-367b-4ca0-985f-3a2a304e8e00",
   "metadata": {},
   "source": [
    "----------------------------------------------------------------------------------------------------------------"
   ]
  },
  {
   "cell_type": "markdown",
   "id": "7b4ad80a-cb26-4987-9529-f5ef6f2446cc",
   "metadata": {},
   "source": [
    "<h1>DISEÑO ARQUITECTURA BÁSICA DE UN SERVICIO</h1> \n",
    "<h2>Título: ESTACIÓN METOROLÓGICA</h2> \n",
    "<p>Versión: 1.0</p>\n",
    "<p>Autor: Pablo B. B.</p>\n",
    "<p>Fecha: 02-02-25</p>"
   ]
  },
  {
   "cell_type": "markdown",
   "id": "8e1a5a03-4d75-4210-bf17-8aad9fb0ca9f",
   "metadata": {},
   "source": [
    "----------------------------------------------------------------------------------------------------------------"
   ]
  },
  {
   "cell_type": "markdown",
   "id": "108fd420-c57f-407a-a7ce-6eba8c03b01b",
   "metadata": {},
   "source": [
    "<h3>INTRODUCCIÓN:</h3>\n",
    "<p>Crearemos una web cliente servidor, para manejar los datos de una estacion méteorológica, para ello construiremos una Api, garantizando la seguridad y haremos las pruebas pertinentes. </p>\n",
    "<p>La finalidad de este código es poder entablar una relación entre los datos recogidos de una estación meteorológica, y las personas consumidoras de estos datos cientificos, fundamentalmente: científicos, estudiosos del clima y todas aquellas personas interesadas.</p>"
   ]
  },
  {
   "cell_type": "markdown",
   "id": "1df2e677-7b9d-4923-94b7-e64bebd48f9b",
   "metadata": {},
   "source": [
    "<img src=\"./img/documento.gif\"  width=\"50\"/>"
   ]
  },
  {
   "cell_type": "markdown",
   "id": "1b5dab18-9a1b-48f5-b41c-7a9399a8551b",
   "metadata": {},
   "source": [
    "<h3>DESCRIPCIÓN GENERAL:</h3>"
   ]
  },
  {
   "cell_type": "markdown",
   "id": "91a0e57e-131f-4ccc-bf90-466caf5ee832",
   "metadata": {},
   "source": [
    "[Resumen de la aplicación] <br>\n",
    "[Funcionalidades principales] <br>\n",
    "<p>Tecnologías empleadas:</p>\n",
    "<ul>\n",
    "    <li>Frontend: React</li>\n",
    "    <li>Backend: Nodejs y Express</li>\n",
    "    <li>Base de datos: MongoDB</li>\n",
    "</ul>"
   ]
  },
  {
   "cell_type": "markdown",
   "id": "456a9ee6-7f8d-4334-b73c-09e18f29fe50",
   "metadata": {},
   "source": [
    "<h3>REQUISITOS DEL SISTEMA</h3>\n",
    "<ul>\n",
    "    <li>Hardware: Mínimo 2 GB de RAM, 1 GHz de procesador</li>\n",
    "    <li>Software: Navegadores compatibles (Chrome, Firefox, Edge)\r",
    "    <li>Dependencias: Node.js v16+, MongoDB v5</li>\n",
    "</ul>"
   ]
  },
  {
   "cell_type": "markdown",
   "id": "2dde6c14-1d54-4581-957e-7b0420d71b73",
   "metadata": {},
   "source": [
    "<h3>ARQUITECTURA DEL SISTEMA</h3>\n",
    "<p>La aplicación sigue una arquitectura cliente-servidor:</p>\n",
    "<ul>\n",
    "    <li>Frontend: Interfaz de usuario construida con React.js</li>\n",
    "    <li>Backend: API RESTful construida con Node.js y Express</li>\n",
    "    <li>Base de datos: MongoDB para almacenar tareas y usuarios</li>\n",
    "</ul>"
   ]
  },
  {
   "cell_type": "markdown",
   "id": "52c3a5f4-c39a-497d-b78f-9029629d3781",
   "metadata": {},
   "source": [
    "<h3>FUNCIONALIDADES DETALLADAS</h3>\n",
    "<ul>\n",
    "    <li>Añadir datos</li>\n",
    "    <ul>\n",
    "        <li>El usuario ingresa: Temperatura, Humedad, Presión atmosférica, Viento, Precipitación, Radiación solar, Indices de calidad de aire, Nubosidad e Indice UV.</li>\n",
    "        <li>Los datos se almacena en la base de datos.</li>\n",
    "    </ul>\n",
    "    <li>Editar datos</li>\n",
    "    <ul>\n",
    "        <li>El usuario puede modificar los detalles de una campo existente.</li>\n",
    "    </ul>\n",
    "    <li>Eliminar datos</li>\n",
    "    <ul>\n",
    "        <li>El usuario puede eliminar una registro de la lista.</li>\n",
    "    </ul>\n",
    "</ul>"
   ]
  },
  {
   "cell_type": "markdown",
   "id": "d933c368-f551-427e-95b7-879baaebd1b9",
   "metadata": {},
   "source": [
    "<h3>INTERFAZ DE USUARIO (UI)</h3>\n",
    "<ul>\n",
    "    <li>Pantalla Principal: Muestra la lista de tareas con opciones para crear, editar y eliminar.</li>\n",
    "    <li>Formulario de Tarea: Permite ingresar los detalles de la tarea.</li>\n",
    "</ul>\n",
    "<img src=\"Pantalla.jpg\" />"
   ]
  },
  {
   "cell_type": "markdown",
   "id": "0c5ebbae-858e-4405-a24c-4912f4a1ec40",
   "metadata": {},
   "source": [
    "<h3>BASE DE DATOS</h3>\n",
    "<h4>Tabla \"Tasks\":</h4>\n",
    "<ul>\n",
    "    <li>id (ObjectId)</li>\n",
    "    <li>Temperatura</li>\n",
    "    <li>Humedad</li>\n",
    "    <li>Presión atmosférica</li>\n",
    "    <li>Viento</li>\n",
    "    <li>Precipitación</li>\n",
    "    <li>Radiación solar</li>\n",
    "    <li>Indices de calidad del aire</li>\n",
    "    <li>Nubosidad</li>\n",
    "    <li>Indices UV</li>\n",
    "</ul>"
   ]
  },
  {
   "cell_type": "markdown",
   "id": "b365e93b-50c5-46cc-bc3d-cbb0f3ac638f",
   "metadata": {},
   "source": [
    "<h3>API</h3>\n",
    "[Endpoints disponibles]<br>\n",
    "[Métodos HTTP (GET, POST, PUT, DELETE)]<br>\n",
    "[Parámetros y respuestas esperadas]"
   ]
  },
  {
   "cell_type": "markdown",
   "id": "ea4aa2a8-7660-4a12-9956-f984c7bdcbe2",
   "metadata": {},
   "source": [
    "<h3>PRUEBAS</h3>\n",
    "[Estrategia de pruebas (unitarias, integración, rendimiento)]<br>\n",
    "[Casos de prueba]"
   ]
  }
 ],
 "metadata": {
  "kernelspec": {
   "display_name": "",
   "name": ""
  },
  "language_info": {
   "name": ""
  }
 },
 "nbformat": 4,
 "nbformat_minor": 5
}
